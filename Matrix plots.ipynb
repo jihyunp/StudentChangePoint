{
 "cells": [
  {
   "cell_type": "code",
   "execution_count": 2,
   "metadata": {
    "collapsed": true
   },
   "outputs": [],
   "source": [
    "from student_changepoint import StudentChangepoint\n",
    "import matplotlib.pyplot as plt\n",
    "import numpy as np\n",
    "%matplotlib inline\n",
    "from matplotlib.colors import LinearSegmentedColormap"
   ]
  },
  {
   "cell_type": "code",
   "execution_count": 11,
   "metadata": {
    "collapsed": false,
    "scrolled": true
   },
   "outputs": [
    {
     "name": "stdout",
     "output_type": "stream",
     "text": [
      "\n",
      "Loading the data from ./test_data.csv\n",
      "Running Bernoulli changepoint detection.\n",
      "  ---> took 30 seconds.\n",
      "\n",
      "Loading the data from ./test_data.csv\n",
      "Running Poisson changepoint detection.\n",
      "  ---> took 71 seconds.\n"
     ]
    }
   ],
   "source": [
    "cp_bins = StudentChangepoint(data_fname='./test_data.csv', binary=True, result_dir='result_bins')\n",
    "cp_bins.naive_changepoint_detection(plot=False, debug=False) # Disable 'plot' (plot=False) for faster run\n",
    "inc_bins, dec_bins, noch_bins = cp_bins.get_inc_dec_noch_sidxs()\n",
    "\n",
    "cp_cnts = StudentChangepoint(data_fname='./test_data.csv', binary=False, result_dir='result_cnts')\n",
    "cp_cnts.naive_changepoint_detection(plot=False, debug=False) # Disable 'plot' (plot=False) for faster run\n",
    "inc_idxs, dec_idxs, noch_idxs = cp_cnts.get_inc_dec_noch_sidxs()"
   ]
  },
  {
   "cell_type": "code",
   "execution_count": 14,
   "metadata": {
    "collapsed": true
   },
   "outputs": [],
   "source": [
    "def plot_one_small_mat(axis, data, n_inc, n_dec, cmap, title=''):\n",
    "    \"\"\"\n",
    "    axis: pyplot axis to plot on\n",
    "    data: numpy 2-dim array\n",
    "    type_idx: int for title\n",
    "        0: preview counts\n",
    "        1: review counts\n",
    "    n_inc: int\n",
    "        number of increased students\n",
    "    n_dec: int\n",
    "        number of decreased students\n",
    "    cmap: str or colormap\n",
    "        colormap to use\n",
    "    \"\"\"\n",
    "    axis.matshow(data, interpolation='nearest', aspect='auto',\n",
    "                 cmap=cmap)\n",
    "    axis.xaxis.set_label_position('bottom')\n",
    "    axis.xaxis.set_ticks_position('bottom')\n",
    "    axis.tick_params(labelsize=13)\n",
    "    axis.set_xlabel('DAYS', fontsize=14)\n",
    "    axis.set_yticks([])\n",
    "    axis.set_title(title, fontsize=15)\n",
    "    \n",
    "    tot_n_rows = float(n_inc + n_dec)\n",
    "    dec_start = 0\n",
    "    dec_end = n_dec / tot_n_rows\n",
    "    inc_start = dec_end\n",
    "    inc_end = 1\n",
    "    inc_mid = (inc_start + inc_end )/ 2.0\n",
    "    dec_mid = (dec_start + dec_end) / 2.0\n",
    "    \n",
    "    # Inc\n",
    "    axis.annotate('', xy=(1.03, inc_start), xycoords='axes fraction',\n",
    "                  xytext=(1.03, inc_end),\n",
    "                  arrowprops=dict(arrowstyle=\"<->\", color='#114B5F', linewidth=3))\n",
    "    axis.annotate('$N_{I nc}$', xy=(1.045, inc_mid), xycoords='axes fraction',\n",
    "                  xytext=(1.045, inc_mid), va='center', ha='left', fontsize=16)\n",
    "    # Dec\n",
    "    axis.annotate('', xy=(1.03, dec_start), xycoords='axes fraction',\n",
    "                  xytext=(1.03, dec_end), \n",
    "                  arrowprops=dict(arrowstyle=\"<->\", color='#840032', linewidth=3))\n",
    "    axis.annotate('$N_{D ec}$', xy=(1.045, dec_mid), xycoords='axes fraction',\n",
    "                  xytext=(1.045, dec_mid), va='center', ha='left', fontsize=16)"
   ]
  },
  {
   "cell_type": "code",
   "execution_count": 15,
   "metadata": {
    "collapsed": false
   },
   "outputs": [
    {
     "data": {
      "image/png": "[encoded data removed]",
      "text/plain": [
       "<Figure size 1152x504 with 2 Axes>"
      ]
     },
     "metadata": {},
     "output_type": "display_data"
    }
   ],
   "source": [
    "canvascps = [cp_bins, cp_cnts]\n",
    "title_list = ['BINARY', 'COUNTS']\n",
    "\n",
    "fig, axs = plt.subplots(1,2, figsize=(16,7))\n",
    "\n",
    "for idx, ax in enumerate(axs):\n",
    "    canvascp = canvascps[idx]\n",
    "    groups_of_sidxs_ranked = canvascp.rank_students_by_cp()\n",
    "\n",
    "    list_of_data  = []  # will create a matrix to plot\n",
    "    n_inc = len(groups_of_sidxs_ranked[0])\n",
    "    n_dec = len(groups_of_sidxs_ranked[1])\n",
    "\n",
    "    max_entry_val = np.round(np.max(canvascp.glm_mat[:,1]))\n",
    "    \n",
    "    # Just plot two groups (inc/dec)\n",
    "    for i, sidxs_ranked in enumerate(groups_of_sidxs_ranked[:2]):\n",
    "        for sidx in sidxs_ranked:\n",
    "            data = np.array(canvascp.get_one_student_data(canvascp.glm_mat, sidx))\n",
    "            cp = int(canvascp.detected_cp_arr[sidx])\n",
    "            # Code the change-point as (max_value + 1) -> it will show as red by the colormap\n",
    "            data[cp] = max_entry_val + 1\n",
    "            # Append the modified value\n",
    "            list_of_data.append(data[:, 1])\n",
    "\n",
    "    # Set the color map as [white, gray1, gray2, ..., grayN, red]\n",
    "    # so that the changepoint (which has the max val) can be shown as RED\n",
    "    if max_entry_val == 1:\n",
    "        color_list = [(1,1,1),(0,0,0),(1,0,0)]\n",
    "    else:\n",
    "        increment = 1.0 / (max_entry_val-1)\n",
    "        color_list = []\n",
    "        for i in range(int(max_entry_val)):\n",
    "            val = 1-increment*i\n",
    "            color_list.append((val, val, val))\n",
    "        color_list.append((1,0,0))\n",
    "\n",
    "    cm = LinearSegmentedColormap.from_list(\"WBR\", color_list)\n",
    "    data_mat = np.array(list_of_data)\n",
    "\n",
    "    if canvascp.binary:\n",
    "        plot_one_small_mat(ax, data_mat, n_inc=n_inc, n_dec=n_dec, cmap=cm, title=title_list[idx])\n",
    "    else:\n",
    "        plot_one_small_mat(ax, np.log(data_mat+1), n_inc=n_inc, n_dec=n_dec, cmap=cm, title=title_list[idx])\n",
    "\n",
    "# fname = 'two_mats.pdf'\n",
    "# plt.savefig(fname)"
   ]
  }
 ],
 "metadata": {
  "anaconda-cloud": {},
  "kernelspec": {
   "display_name": "Python [conda root]",
   "language": "python",
   "name": "conda-root-py"
  },
  "language_info": {
   "codemirror_mode": {
    "name": "ipython",
    "version": 2
   },
   "file_extension": ".py",
   "mimetype": "text/x-python",
   "name": "python",
   "nbconvert_exporter": "python",
   "pygments_lexer": "ipython2",
   "version": "2.7.9"
  }
 },
 "nbformat": 4,
 "nbformat_minor": 1
}
